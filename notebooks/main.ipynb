{
 "cells": [
  {
   "cell_type": "code",
   "execution_count": null,
   "id": "5d50ee35",
   "metadata": {},
   "outputs": [],
   "source": [
    "### FILE: main.ipynb\n",
    "import pandas as pd\n",
    "from src.preprocessing import preprocess_data\n",
    "from src.train import train_model\n",
    "from src.evaluate import evaluate_model\n",
    "from src.explain import explain_model"
   ]
  },
  {
   "cell_type": "code",
   "execution_count": null,
   "id": "6c5c5a43",
   "metadata": {},
   "outputs": [],
   "source": [
    "# Load data\n",
    "train_df = pd.read_csv(\"data/train.csv\", low_memory=False)"
   ]
  },
  {
   "cell_type": "code",
   "execution_count": null,
   "id": "664a84cc",
   "metadata": {},
   "outputs": [],
   "source": [
    "# Preprocess\n",
    "train_cleaned, _ = preprocess_data(train_df)"
   ]
  },
  {
   "cell_type": "code",
   "execution_count": null,
   "id": "34476b3b",
   "metadata": {},
   "outputs": [],
   "source": [
    "# Train\n",
    "model, X_val, y_val = train_model(train_cleaned)"
   ]
  },
  {
   "cell_type": "code",
   "execution_count": null,
   "id": "d1335430",
   "metadata": {},
   "outputs": [],
   "source": [
    "# Evaluate\n",
    "evaluate_model(model, X_val, y_val)"
   ]
  },
  {
   "cell_type": "code",
   "execution_count": null,
   "id": "65baa7fb",
   "metadata": {},
   "outputs": [],
   "source": [
    "# Explain\n",
    "explain_model(model, X_val)"
   ]
  }
 ],
 "metadata": {
  "language_info": {
   "name": "python"
  }
 },
 "nbformat": 4,
 "nbformat_minor": 5
}

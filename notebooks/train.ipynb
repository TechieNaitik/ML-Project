{
 "cells": [
  {
   "cell_type": "code",
   "execution_count": null,
   "id": "eb64e9ec",
   "metadata": {},
   "outputs": [],
   "source": [
    "### FILE: notebooks/train.ipynb\n",
    "import pandas as pd\n",
    "from sklearn.model_selection import train_test_split\n",
    "from sklearn.ensemble import RandomForestClassifier\n",
    "import joblib"
   ]
  },
  {
   "cell_type": "code",
   "execution_count": null,
   "id": "baa7aaea",
   "metadata": {},
   "outputs": [],
   "source": [
    "def train_model(df):\n",
    "    X = df.drop(columns=['Credit_Score'])\n",
    "    y = df['Credit_Score']\n",
    "\n",
    "    from sklearn.preprocessing import LabelEncoder\n",
    "    y = LabelEncoder().fit_transform(y)\n",
    "\n",
    "    X_train, X_val, y_train, y_val = train_test_split(X, y, test_size=0.2, random_state=42)\n",
    "\n",
    "    model = RandomForestClassifier(n_estimators=100, random_state=42)\n",
    "    model.fit(X_train, y_train)\n",
    "\n",
    "    joblib.dump(model, 'models/credit_model.pkl')\n",
    "    return model, X_val, y_val"
   ]
  }
 ],
 "metadata": {
  "language_info": {
   "name": "python"
  }
 },
 "nbformat": 4,
 "nbformat_minor": 5
}

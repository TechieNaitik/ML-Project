{
 "cells": [
  {
   "cell_type": "code",
   "execution_count": null,
   "id": "8da09e30",
   "metadata": {},
   "outputs": [],
   "source": [
    "### FILE: notebooks/preprocessing.py\n",
    "import pandas as pd\n",
    "import numpy as np\n",
    "from sklearn.preprocessing import LabelEncoder"
   ]
  },
  {
   "cell_type": "code",
   "execution_count": null,
   "id": "8185a02c",
   "metadata": {},
   "outputs": [],
   "source": [
    "def preprocess_data(df, is_train=True):\n",
    "    drop_cols = ['ID', 'Customer_ID', 'SSN', 'Name', 'Month']\n",
    "    df.drop(columns=drop_cols, inplace=True, errors='ignore')\n",
    "\n",
    "    df['Age'] = pd.to_numeric(df['Age'], errors='coerce')\n",
    "    df = df[df['Age'].between(18, 100)]\n",
    "\n",
    "    df.loc[:, :] = df.replace(\"_______\", np.nan)\n",
    "    df = df.dropna()\n",
    "\n",
    "    for col in df.columns:\n",
    "        if df[col].dtype == 'object':\n",
    "            try:\n",
    "                df[col] = df[col].astype(float)\n",
    "            except:\n",
    "                pass\n",
    "\n",
    "    label_encoders = {}\n",
    "    for col in df.select_dtypes(include='object').columns:\n",
    "        df[col] = df[col].astype(str)\n",
    "        le = LabelEncoder()\n",
    "        df[col] = le.fit_transform(df[col])\n",
    "        label_encoders[col] = le\n",
    "\n",
    "    return df, label_encoders"
   ]
  }
 ],
 "metadata": {
  "language_info": {
   "name": "python"
  }
 },
 "nbformat": 4,
 "nbformat_minor": 5
}

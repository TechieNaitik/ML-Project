{
 "cells": [
  {
   "cell_type": "code",
   "execution_count": null,
   "id": "c6ab068d",
   "metadata": {},
   "outputs": [],
   "source": [
    "### FILE: snotebooks/explain.ipynb\n",
    "import shap\n",
    "import matplotlib.pyplot as plt"
   ]
  },
  {
   "cell_type": "code",
   "execution_count": null,
   "id": "1acfdc9b",
   "metadata": {},
   "outputs": [],
   "source": [
    "def explain_model(model, X_val, sample_size=100):\n",
    "    sample = X_val.sample(min(sample_size, len(X_val)), random_state=42)\n",
    "\n",
    "    explainer = shap.TreeExplainer(model)\n",
    "    shap_values = explainer.shap_values(sample)\n",
    "\n",
    "    print(\"\\\\nSHAP Summary Plot (Feature Importance):\")\n",
    "    shap.summary_plot(shap_values, sample, plot_type=\"bar\")"
   ]
  }
 ],
 "metadata": {
  "language_info": {
   "name": "python"
  }
 },
 "nbformat": 4,
 "nbformat_minor": 5
}
